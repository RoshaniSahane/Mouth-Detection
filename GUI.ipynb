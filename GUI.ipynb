{
 "cells": [
  {
   "cell_type": "code",
   "execution_count": 8,
   "id": "4ee56e91",
   "metadata": {},
   "outputs": [
    {
     "name": "stderr",
     "output_type": "stream",
     "text": [
      "C:\\Users\\Roshani\\AppData\\Local\\Temp\\ipykernel_3372\\1328293387.py:39: DeprecationWarning: ANTIALIAS is deprecated and will be removed in Pillow 10 (2023-07-01). Use Resampling.LANCZOS instead.\n",
      "  image = image.resize((400, 400), Image.ANTIALIAS)\n"
     ]
    },
    {
     "name": "stdout",
     "output_type": "stream",
     "text": [
      "1/1 [==============================] - 1s 829ms/step\n"
     ]
    }
   ],
   "source": [
    "import tkinter as tk\n",
    "from tkinter import filedialog\n",
    "from PIL import Image, ImageTk\n",
    "import cv2\n",
    "import numpy as np\n",
    "from tensorflow.keras.models import model_from_json\n",
    "\n",
    "class MouthDetectionApp:\n",
    "    def __init__(self, root):\n",
    "        self.root = root\n",
    "        self.root.title(\"Mouth Detection GUI\")\n",
    "\n",
    "        self.model = self.load_model()\n",
    "\n",
    "        self.canvas = tk.Canvas(root, width=400, height=400)\n",
    "        self.canvas.pack()\n",
    "\n",
    "        self.btn_browse = tk.Button(root, text=\"Browse Image\", command=self.browse_image)\n",
    "        self.btn_browse.pack(pady=10)\n",
    "\n",
    "        self.btn_detect = tk.Button(root, text=\"Detect Mouth\", command=self.detect_mouth)\n",
    "        self.btn_detect.pack(pady=10)\n",
    "\n",
    "    def load_model(self):\n",
    "        # Load the mouth detection model\n",
    "        json_file = open(\"mouth_model.json\", \"r\")\n",
    "        loaded_model_json = json_file.read()\n",
    "        json_file.close()\n",
    "        loaded_model = model_from_json(loaded_model_json)\n",
    "        loaded_model.load_weights(\"mouth_model_weights.h5\")\n",
    "        return loaded_model\n",
    "\n",
    "    def browse_image(self):\n",
    "        self.file_path = filedialog.askopenfilename(initialdir=\"/\", title=\"Select Image\", filetypes=[(\"Image files\", \"*.png;*.jpg;*.jpeg\")])\n",
    "        self.show_image()\n",
    "\n",
    "    def show_image(self):\n",
    "        image = Image.open(self.file_path)\n",
    "        image = image.resize((400, 400), Image.ANTIALIAS)\n",
    "        self.photo = ImageTk.PhotoImage(image)\n",
    "        self.canvas.create_image(0, 0, anchor=tk.NW, image=self.photo)\n",
    "\n",
    "    def detect_mouth(self):\n",
    "        if hasattr(self, 'file_path'):\n",
    "            image = cv2.imread(self.file_path, cv2.IMREAD_GRAYSCALE)\n",
    "            image = cv2.resize(image, (48, 48))\n",
    "            image = np.expand_dims(image, axis=-1)\n",
    "            image = np.expand_dims(image, axis=0)\n",
    "\n",
    "            prediction = self.model.predict(image)\n",
    "            result = \"Mouth: Closed\" if np.argmax(prediction) == 0 else \"Mouth: Open\"\n",
    "\n",
    "            result_label = tk.Label(root, text=result)\n",
    "            result_label.pack(pady=10)\n",
    "        else:\n",
    "            result_label = tk.Label(root, text=\"Browse an Image first.\")\n",
    "            result_label.pack(pady=10)\n",
    "\n",
    "if __name__ == \"__main__\":\n",
    "    root = tk.Tk()\n",
    "    app = MouthDetectionApp(root)\n",
    "    root.mainloop()\n"
   ]
  },
  {
   "cell_type": "code",
   "execution_count": null,
   "id": "6bd50a58",
   "metadata": {},
   "outputs": [],
   "source": []
  }
 ],
 "metadata": {
  "kernelspec": {
   "display_name": "Python 3 (ipykernel)",
   "language": "python",
   "name": "python3"
  },
  "language_info": {
   "codemirror_mode": {
    "name": "ipython",
    "version": 3
   },
   "file_extension": ".py",
   "mimetype": "text/x-python",
   "name": "python",
   "nbconvert_exporter": "python",
   "pygments_lexer": "ipython3",
   "version": "3.9.13"
  }
 },
 "nbformat": 4,
 "nbformat_minor": 5
}
